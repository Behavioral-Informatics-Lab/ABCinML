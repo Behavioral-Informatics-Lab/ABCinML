{
 "cells": [
  {
   "cell_type": "markdown",
   "id": "4dfcf409",
   "metadata": {},
   "source": [
    "### Main notebook\n"
   ]
  },
  {
   "cell_type": "code",
   "execution_count": 1,
   "id": "aa79b386",
   "metadata": {},
   "outputs": [],
   "source": [
    "import numpy as np\n",
    "import pandas as pd \n",
    "\n",
    "import matplotlib.pyplot as plt\n",
    "import seaborn as sns\n",
    "\n",
    "\n",
    "from sklearn.linear_model import LogisticRegression\n",
    "from sklearn import preprocessing\n",
    "\n",
    "\n",
    "from sklearn.metrics import accuracy_score\n",
    "from sklearn.metrics import log_loss, accuracy_score\n",
    "from sklearn.model_selection import train_test_split\n",
    "from sklearn import metrics\n",
    "from matplotlib.colors import ListedColormap\n",
    "from scipy.interpolate import interp1d\n",
    "\n",
    "from fairness_measure import discrimination, all_fairness, statistical_parity, temporal_bias\n",
    "from modeling import datasets, get_results, weight_estimation, reweighing\n",
    "from pre_process import pre_process_raw_data, preparing_dataframe\n",
    "import modeling\n",
    "\n",
    "%config Completer.use_jedi = False\n",
    "\n",
    "import warnings\n",
    "\n",
    "\n",
    "warnings.simplefilter('ignore')\n",
    "\n",
    "plt.rcParams['figure.figsize'] = (8, 5)\n",
    "# plt.style.use('fivethirtyeight')"
   ]
  },
  {
   "cell_type": "markdown",
   "id": "8a89663b",
   "metadata": {},
   "source": [
    "## Dataset Reader\n",
    "    - datasets:\n",
    "        - jigsaw\n",
    "        - adult\n",
    "        - funding"
   ]
  },
  {
   "cell_type": "code",
   "execution_count": 2,
   "id": "c0d6d827",
   "metadata": {},
   "outputs": [],
   "source": [
    "name = 'adult'"
   ]
  },
  {
   "cell_type": "code",
   "execution_count": 3,
   "id": "46b4aa96",
   "metadata": {},
   "outputs": [],
   "source": [
    "df = datasets(name)"
   ]
  },
  {
   "cell_type": "code",
   "execution_count": 4,
   "id": "97e82e07",
   "metadata": {},
   "outputs": [
    {
     "data": {
      "text/plain": [
       "(636625, 12)"
      ]
     },
     "execution_count": 4,
     "metadata": {},
     "output_type": "execute_result"
    }
   ],
   "source": [
    "df.shape"
   ]
  },
  {
   "cell_type": "code",
   "execution_count": 5,
   "id": "1f65615c",
   "metadata": {},
   "outputs": [
    {
     "data": {
      "text/plain": [
       "[2015, 2016, 2017, 2018]"
      ]
     },
     "execution_count": 5,
     "metadata": {},
     "output_type": "execute_result"
    }
   ],
   "source": [
    "sorted(df['date'].unique())"
   ]
  },
  {
   "cell_type": "markdown",
   "id": "a73d73db",
   "metadata": {},
   "source": [
    "## Baselines\n",
    "- (0)(vanilla) Train once + test on entire future (sequentially) (average) (no fairness)\n",
    "- (1)(static) Train once + test on entire future (sequentially) (average)\n",
    "- (2)(dynamic) Train on entire past + test on immediate future (+ average)\n",
    "\n",
    "- Ours: (2) + forecasting "
   ]
  },
  {
   "cell_type": "markdown",
   "id": "c31328d8",
   "metadata": {},
   "source": [
    "#### (0) (vanilla)"
   ]
  },
  {
   "cell_type": "code",
   "execution_count": 6,
   "id": "8fc3b914",
   "metadata": {},
   "outputs": [
    {
     "name": "stdout",
     "output_type": "stream",
     "text": [
      "Train on 2015\n",
      "Test on 2016\n",
      "Test on 2017\n",
      "Test on 2018\n"
     ]
    }
   ],
   "source": [
    "baseline_0_results, full_results_0, batches_0 = modeling.baseline_0(df)"
   ]
  },
  {
   "cell_type": "code",
   "execution_count": 7,
   "id": "40028ade",
   "metadata": {},
   "outputs": [
    {
     "data": {
      "text/plain": [
       "auc    0.823921\n",
       "S.P    0.107324\n",
       "TPR    0.095297\n",
       "FPR    0.037701\n",
       "GAP    0.066499\n",
       "dtype: float64"
      ]
     },
     "execution_count": 7,
     "metadata": {},
     "output_type": "execute_result"
    }
   ],
   "source": [
    "baseline_0_results"
   ]
  },
  {
   "cell_type": "code",
   "execution_count": 8,
   "id": "ec3ce179",
   "metadata": {},
   "outputs": [],
   "source": [
    "baseline_0_results = baseline_0_results.to_numpy()"
   ]
  },
  {
   "cell_type": "markdown",
   "id": "94b1ac66",
   "metadata": {},
   "source": [
    "#### (1) (static)"
   ]
  },
  {
   "cell_type": "code",
   "execution_count": 9,
   "id": "e68037d3",
   "metadata": {},
   "outputs": [
    {
     "name": "stdout",
     "output_type": "stream",
     "text": [
      "Train on 2015\n",
      "Test on 2016\n",
      "Test on 2017\n",
      "Test on 2018\n"
     ]
    }
   ],
   "source": [
    "baseline_1_results, full_results_1, batches_1 = modeling.baseline_1(df)"
   ]
  },
  {
   "cell_type": "code",
   "execution_count": 10,
   "id": "b5b3ee77",
   "metadata": {},
   "outputs": [
    {
     "data": {
      "text/plain": [
       "auc    0.817730\n",
       "S.P    0.078786\n",
       "TPR    0.081577\n",
       "FPR    0.008248\n",
       "GAP    0.044912\n",
       "dtype: float64"
      ]
     },
     "execution_count": 10,
     "metadata": {},
     "output_type": "execute_result"
    }
   ],
   "source": [
    "baseline_1_results"
   ]
  },
  {
   "cell_type": "code",
   "execution_count": 11,
   "id": "62a7749c",
   "metadata": {},
   "outputs": [],
   "source": [
    "baseline_1_results = baseline_1_results.to_numpy()"
   ]
  },
  {
   "cell_type": "markdown",
   "id": "953a487d",
   "metadata": {},
   "source": [
    "#### 2) (Dynamic)"
   ]
  },
  {
   "cell_type": "code",
   "execution_count": 12,
   "id": "3b579e97",
   "metadata": {},
   "outputs": [
    {
     "name": "stdout",
     "output_type": "stream",
     "text": [
      "[2015]\n",
      "2016\n",
      "[2015, 2016]\n",
      "2017\n",
      "[2015, 2016, 2017]\n",
      "2018\n"
     ]
    }
   ],
   "source": [
    "baseline_2_results, full_results_2, batches_2 = modeling.baseline_3(df)"
   ]
  },
  {
   "cell_type": "code",
   "execution_count": 13,
   "id": "281fdcf0",
   "metadata": {},
   "outputs": [
    {
     "data": {
      "text/plain": [
       "auc    0.822943\n",
       "S.P    0.074481\n",
       "TPR    0.076409\n",
       "FPR    0.006019\n",
       "GAP    0.041214\n",
       "dtype: float64"
      ]
     },
     "execution_count": 13,
     "metadata": {},
     "output_type": "execute_result"
    }
   ],
   "source": [
    "baseline_2_results"
   ]
  },
  {
   "cell_type": "code",
   "execution_count": 14,
   "id": "3c1fac3f",
   "metadata": {},
   "outputs": [],
   "source": [
    "baseline_2_results = baseline_2_results.to_numpy()"
   ]
  },
  {
   "cell_type": "markdown",
   "id": "2f11e16a",
   "metadata": {},
   "source": [
    "## Results"
   ]
  },
  {
   "cell_type": "markdown",
   "id": "66201074",
   "metadata": {},
   "source": [
    "### Baselines"
   ]
  },
  {
   "cell_type": "code",
   "execution_count": 15,
   "id": "44648293",
   "metadata": {
    "scrolled": true
   },
   "outputs": [
    {
     "data": {
      "text/html": [
       "<div>\n",
       "<style scoped>\n",
       "    .dataframe tbody tr th:only-of-type {\n",
       "        vertical-align: middle;\n",
       "    }\n",
       "\n",
       "    .dataframe tbody tr th {\n",
       "        vertical-align: top;\n",
       "    }\n",
       "\n",
       "    .dataframe thead th {\n",
       "        text-align: right;\n",
       "    }\n",
       "</style>\n",
       "<table border=\"1\" class=\"dataframe\">\n",
       "  <thead>\n",
       "    <tr style=\"text-align: right;\">\n",
       "      <th></th>\n",
       "      <th>AUC</th>\n",
       "      <th>S.P</th>\n",
       "      <th>TPR</th>\n",
       "      <th>FPR</th>\n",
       "      <th>GAP</th>\n",
       "    </tr>\n",
       "  </thead>\n",
       "  <tbody>\n",
       "    <tr>\n",
       "      <th>0</th>\n",
       "      <td>0.823921</td>\n",
       "      <td>0.107324</td>\n",
       "      <td>0.095297</td>\n",
       "      <td>0.037701</td>\n",
       "      <td>0.066499</td>\n",
       "    </tr>\n",
       "    <tr>\n",
       "      <th>1</th>\n",
       "      <td>0.817730</td>\n",
       "      <td>0.078786</td>\n",
       "      <td>0.081577</td>\n",
       "      <td>0.008248</td>\n",
       "      <td>0.044912</td>\n",
       "    </tr>\n",
       "    <tr>\n",
       "      <th>2</th>\n",
       "      <td>0.822943</td>\n",
       "      <td>0.074481</td>\n",
       "      <td>0.076409</td>\n",
       "      <td>0.006019</td>\n",
       "      <td>0.041214</td>\n",
       "    </tr>\n",
       "  </tbody>\n",
       "</table>\n",
       "</div>"
      ],
      "text/plain": [
       "        AUC       S.P       TPR       FPR       GAP\n",
       "0  0.823921  0.107324  0.095297  0.037701  0.066499\n",
       "1  0.817730  0.078786  0.081577  0.008248  0.044912\n",
       "2  0.822943  0.074481  0.076409  0.006019  0.041214"
      ]
     },
     "execution_count": 15,
     "metadata": {},
     "output_type": "execute_result"
    }
   ],
   "source": [
    "columns = ['AUC','S.P','TPR','FPR','GAP']\n",
    "pd.DataFrame(np.array([baseline_0_results, baseline_1_results, baseline_2_results]), columns=columns)"
   ]
  },
  {
   "cell_type": "markdown",
   "id": "0f87c5e6",
   "metadata": {},
   "source": [
    "### Ours 4 (anticipated)"
   ]
  },
  {
   "cell_type": "markdown",
   "id": "7d18b6ea",
   "metadata": {},
   "source": [
    "### Search Space "
   ]
  },
  {
   "cell_type": "code",
   "execution_count": 16,
   "id": "cfdeb347",
   "metadata": {},
   "outputs": [],
   "source": [
    "alphas = np.linspace(0, 1, 11)"
   ]
  },
  {
   "cell_type": "code",
   "execution_count": 17,
   "id": "97ce3b4a",
   "metadata": {},
   "outputs": [],
   "source": [
    "alphas = np.round(alphas, 2)"
   ]
  },
  {
   "cell_type": "code",
   "execution_count": 18,
   "id": "7c07247e",
   "metadata": {},
   "outputs": [
    {
     "name": "stdout",
     "output_type": "stream",
     "text": [
      "[0.  0.1 0.2 0.3 0.4 0.5 0.6 0.7 0.8 0.9 1. ]\n"
     ]
    }
   ],
   "source": [
    "print(alphas)"
   ]
  },
  {
   "cell_type": "code",
   "execution_count": 19,
   "id": "4211fcd9",
   "metadata": {},
   "outputs": [
    {
     "name": "stdout",
     "output_type": "stream",
     "text": [
      "0.0\n",
      "[2015]\n",
      "Use estimation from 2016\n",
      "2016\n",
      "[2015, 2016]\n",
      "Use estimation from 2017\n",
      "2017\n",
      "[2015, 2016, 2017]\n",
      "Use estimation from 2018\n",
      "2018\n",
      "0.1\n",
      "[2015]\n",
      "Use estimation from 2016\n",
      "2016\n",
      "[2015, 2016]\n",
      "Use estimation from 2017\n",
      "2017\n",
      "[2015, 2016, 2017]\n",
      "Use estimation from 2018\n",
      "2018\n",
      "0.2\n",
      "[2015]\n",
      "Use estimation from 2016\n",
      "2016\n",
      "[2015, 2016]\n",
      "Use estimation from 2017\n",
      "2017\n",
      "[2015, 2016, 2017]\n",
      "Use estimation from 2018\n",
      "2018\n",
      "0.3\n",
      "[2015]\n",
      "Use estimation from 2016\n",
      "2016\n",
      "[2015, 2016]\n",
      "Use estimation from 2017\n",
      "2017\n",
      "[2015, 2016, 2017]\n",
      "Use estimation from 2018\n",
      "2018\n",
      "0.4\n",
      "[2015]\n",
      "Use estimation from 2016\n",
      "2016\n",
      "[2015, 2016]\n",
      "Use estimation from 2017\n",
      "2017\n",
      "[2015, 2016, 2017]\n",
      "Use estimation from 2018\n",
      "2018\n",
      "0.5\n",
      "[2015]\n",
      "Use estimation from 2016\n",
      "2016\n",
      "[2015, 2016]\n",
      "Use estimation from 2017\n",
      "2017\n",
      "[2015, 2016, 2017]\n",
      "Use estimation from 2018\n",
      "2018\n",
      "0.6\n",
      "[2015]\n",
      "Use estimation from 2016\n",
      "2016\n",
      "[2015, 2016]\n",
      "Use estimation from 2017\n",
      "2017\n",
      "[2015, 2016, 2017]\n",
      "Use estimation from 2018\n",
      "2018\n",
      "0.7\n",
      "[2015]\n",
      "Use estimation from 2016\n",
      "2016\n",
      "[2015, 2016]\n",
      "Use estimation from 2017\n",
      "2017\n",
      "[2015, 2016, 2017]\n",
      "Use estimation from 2018\n",
      "2018\n",
      "0.8\n",
      "[2015]\n",
      "Use estimation from 2016\n",
      "2016\n",
      "[2015, 2016]\n",
      "Use estimation from 2017\n",
      "2017\n",
      "[2015, 2016, 2017]\n",
      "Use estimation from 2018\n",
      "2018\n",
      "0.9\n",
      "[2015]\n",
      "Use estimation from 2016\n",
      "2016\n",
      "[2015, 2016]\n",
      "Use estimation from 2017\n",
      "2017\n",
      "[2015, 2016, 2017]\n",
      "Use estimation from 2018\n",
      "2018\n",
      "1.0\n",
      "[2015]\n",
      "Use estimation from 2016\n",
      "2016\n",
      "[2015, 2016]\n",
      "Use estimation from 2017\n",
      "2017\n",
      "[2015, 2016, 2017]\n",
      "Use estimation from 2018\n",
      "2018\n"
     ]
    }
   ],
   "source": [
    "aucs = []\n",
    "sps = []\n",
    "tprs = []\n",
    "fprs = []\n",
    "eods =[]\n",
    "full_results = []\n",
    "\n",
    "for i in alphas:\n",
    "    print(i)\n",
    "    results, full_result, _ = modeling.ours_cumulative(name, df, i)\n",
    "    aucs.append(results[0])\n",
    "    sps.append(results[1])\n",
    "    tprs.append(results[2])\n",
    "    fprs.append(results[3])\n",
    "    eods.append(results[4])\n",
    "    full_results.append(full_result)"
   ]
  },
  {
   "cell_type": "code",
   "execution_count": 20,
   "id": "8eb8e878",
   "metadata": {},
   "outputs": [
    {
     "data": {
      "text/html": [
       "<div>\n",
       "<style scoped>\n",
       "    .dataframe tbody tr th:only-of-type {\n",
       "        vertical-align: middle;\n",
       "    }\n",
       "\n",
       "    .dataframe tbody tr th {\n",
       "        vertical-align: top;\n",
       "    }\n",
       "\n",
       "    .dataframe thead th {\n",
       "        text-align: right;\n",
       "    }\n",
       "</style>\n",
       "<table border=\"1\" class=\"dataframe\">\n",
       "  <thead>\n",
       "    <tr style=\"text-align: right;\">\n",
       "      <th></th>\n",
       "      <th>AUC</th>\n",
       "      <th>S.P</th>\n",
       "      <th>TPR</th>\n",
       "      <th>FPR</th>\n",
       "    </tr>\n",
       "  </thead>\n",
       "  <tbody>\n",
       "    <tr>\n",
       "      <th>0</th>\n",
       "      <td>0.820562</td>\n",
       "      <td>0.088000</td>\n",
       "      <td>0.088541</td>\n",
       "      <td>0.012071</td>\n",
       "    </tr>\n",
       "    <tr>\n",
       "      <th>1</th>\n",
       "      <td>0.823406</td>\n",
       "      <td>0.094905</td>\n",
       "      <td>0.095042</td>\n",
       "      <td>0.018894</td>\n",
       "    </tr>\n",
       "    <tr>\n",
       "      <th>2</th>\n",
       "      <td>0.820851</td>\n",
       "      <td>0.087400</td>\n",
       "      <td>0.083725</td>\n",
       "      <td>0.013829</td>\n",
       "    </tr>\n",
       "    <tr>\n",
       "      <th>3</th>\n",
       "      <td>0.817653</td>\n",
       "      <td>0.078584</td>\n",
       "      <td>0.080284</td>\n",
       "      <td>0.008061</td>\n",
       "    </tr>\n",
       "    <tr>\n",
       "      <th>4</th>\n",
       "      <td>0.822484</td>\n",
       "      <td>0.089933</td>\n",
       "      <td>0.090114</td>\n",
       "      <td>0.013893</td>\n",
       "    </tr>\n",
       "    <tr>\n",
       "      <th>5</th>\n",
       "      <td>0.821793</td>\n",
       "      <td>0.093321</td>\n",
       "      <td>0.090110</td>\n",
       "      <td>0.023093</td>\n",
       "    </tr>\n",
       "    <tr>\n",
       "      <th>6</th>\n",
       "      <td>0.825779</td>\n",
       "      <td>0.101061</td>\n",
       "      <td>0.098438</td>\n",
       "      <td>0.026066</td>\n",
       "    </tr>\n",
       "    <tr>\n",
       "      <th>7</th>\n",
       "      <td>0.822758</td>\n",
       "      <td>0.073414</td>\n",
       "      <td>0.071449</td>\n",
       "      <td>0.008823</td>\n",
       "    </tr>\n",
       "    <tr>\n",
       "      <th>8</th>\n",
       "      <td>0.822728</td>\n",
       "      <td>0.092163</td>\n",
       "      <td>0.092876</td>\n",
       "      <td>0.015839</td>\n",
       "    </tr>\n",
       "    <tr>\n",
       "      <th>9</th>\n",
       "      <td>0.825642</td>\n",
       "      <td>0.058467</td>\n",
       "      <td>0.059905</td>\n",
       "      <td>0.023562</td>\n",
       "    </tr>\n",
       "    <tr>\n",
       "      <th>10</th>\n",
       "      <td>0.822943</td>\n",
       "      <td>0.074481</td>\n",
       "      <td>0.076409</td>\n",
       "      <td>0.006019</td>\n",
       "    </tr>\n",
       "  </tbody>\n",
       "</table>\n",
       "</div>"
      ],
      "text/plain": [
       "         AUC       S.P       TPR       FPR\n",
       "0   0.820562  0.088000  0.088541  0.012071\n",
       "1   0.823406  0.094905  0.095042  0.018894\n",
       "2   0.820851  0.087400  0.083725  0.013829\n",
       "3   0.817653  0.078584  0.080284  0.008061\n",
       "4   0.822484  0.089933  0.090114  0.013893\n",
       "5   0.821793  0.093321  0.090110  0.023093\n",
       "6   0.825779  0.101061  0.098438  0.026066\n",
       "7   0.822758  0.073414  0.071449  0.008823\n",
       "8   0.822728  0.092163  0.092876  0.015839\n",
       "9   0.825642  0.058467  0.059905  0.023562\n",
       "10  0.822943  0.074481  0.076409  0.006019"
      ]
     },
     "execution_count": 20,
     "metadata": {},
     "output_type": "execute_result"
    }
   ],
   "source": [
    "pd.DataFrame({'AUC': aucs, 'S.P' : sps, 'TPR': tprs, 'FPR': fprs})"
   ]
  },
  {
   "cell_type": "markdown",
   "id": "ad8feb7b",
   "metadata": {},
   "source": [
    "## Temporal Visualization"
   ]
  },
  {
   "cell_type": "code",
   "execution_count": null,
   "id": "473239c3",
   "metadata": {},
   "outputs": [],
   "source": [
    "def temporal_visualization(name):\n",
    "    if name == 'jigsaw':\n",
    "        d = 0\n",
    "        full_results_0['Time'] = batches_0[1:]\n",
    "        full_results_1['Time'] = batches_1[1:]\n",
    "        full_results_2['Time'] = batches_2[1:]\n",
    "        ours = full_results[d].copy()\n",
    "        ours['Time'] = batches_0[1:]\n",
    "\n",
    "    elif name == 'adult':\n",
    "        d = 9\n",
    "        full_results_0['Time'] = batches_0[1:]\n",
    "        full_results_1['Time'] = batches_1[1:]\n",
    "        full_results_2['Time'] = batches_2[1:]\n",
    "        ours = full_results[d].copy()\n",
    "        ours['Time'] = batches_0[1:]\n",
    "        \n",
    "    fig, axs = plt.subplots(2, 2, figsize=(18,10))\n",
    "\n",
    "    sns.lineplot(ax=axs[0,0], data=full_results_0, x='Time', y='auc', label = 'Vanilla')\n",
    "    sns.lineplot(ax=axs[0,0], data=full_results_1, x='Time', y='auc', label = 'Static')\n",
    "    sns.lineplot(ax=axs[0,0], data=full_results_2, x='Time', y='auc', label = 'Dynamic')\n",
    "    sns.lineplot(ax=axs[0,0], data=ours, x='Time', y='auc', label = 'Ours', color = 'black')\n",
    "    #axs[0,0].set(xlabel='Time', ylabel='AUC')\n",
    "    axs[0,0].set_xlabel('Time', fontsize = 15)\n",
    "    axs[0,0].set_ylabel('AUC', fontsize = 15)\n",
    "\n",
    "    new_ticks = full_results_0['Time'].values\n",
    "    axs[0,0].set_xticks(new_ticks)\n",
    "\n",
    "    sns.lineplot(ax=axs[0,1], data=full_results_0, x='Time', y='S.P', label = 'Vanilla')\n",
    "    sns.lineplot(ax=axs[0,1], data=full_results_1, x='Time', y='S.P', label = 'Static')\n",
    "    sns.lineplot(ax=axs[0,1], data=full_results_2, x='Time', y='S.P', label = 'Dynamic')\n",
    "    sns.lineplot(ax=axs[0,1], data=ours, x='Time', y='S.P', label = 'Ours', color = 'black')\n",
    "    #axs[0,1].set(xlabel='Time', ylabel='Δ S.P')\n",
    "    axs[0,1].set_xlabel('Time', fontsize = 15)\n",
    "    axs[0,1].set_ylabel('Δ S.P', fontsize = 15)\n",
    "\n",
    "    axs[0,1].set_xticks(new_ticks)\n",
    "    \n",
    "    sns.lineplot(ax=axs[1,0], data=full_results_0, x='Time', y='TPR', label = 'Vanilla')\n",
    "    sns.lineplot(ax=axs[1,0], data=full_results_1, x='Time', y='TPR', label = 'Static')\n",
    "    sns.lineplot(ax=axs[1,0], data=full_results_2, x='Time', y='TPR', label = 'Dynamic')\n",
    "    sns.lineplot(ax=axs[1,0], data=ours, x='Time', y='TPR', label = 'Ours', color = 'black')\n",
    "    #axs[1,0].set(xlabel='Time', ylabel='Δ TPR')\n",
    "    axs[1,0].set_xlabel('Time', fontsize = 15)\n",
    "    axs[1,0].set_ylabel('Δ TPR', fontsize = 15)\n",
    "\n",
    "    axs[1,0].set_xticks(new_ticks)\n",
    "    \n",
    "    sns.lineplot(ax=axs[1,1], data=full_results_0, x='Time', y='FPR', label = 'Vanilla')\n",
    "    sns.lineplot(ax=axs[1,1], data=full_results_1, x='Time', y='FPR', label = 'Static')\n",
    "    sns.lineplot(ax=axs[1,1], data=full_results_2, x='Time', y='FPR', label = 'Dynamic')\n",
    "    sns.lineplot(ax=axs[1,1], data=ours, x='Time', y='FPR', label = 'Ours', color = 'black')\n",
    "    #axs[1,1].set(xlabel='Time', ylabel='Δ FPR')\n",
    "    \n",
    "    axs[1,1].set_xlabel('Time', fontsize = 15)\n",
    "    axs[1,1].set_ylabel('Δ FPR', fontsize = 15)\n",
    "    \n",
    "    axs[1,1].set_xticks(new_ticks)\n",
    "    \n",
    "    plt.tight_layout()\n",
    "    plt.savefig(f'./results/{name}_temporal.png')"
   ]
  },
  {
   "cell_type": "code",
   "execution_count": null,
   "id": "6fde58de",
   "metadata": {},
   "outputs": [],
   "source": [
    "temporal_visualization(name)"
   ]
  },
  {
   "cell_type": "code",
   "execution_count": null,
   "id": "0ecd8ad7",
   "metadata": {},
   "outputs": [],
   "source": [
    "def just_auc_sp(name):\n",
    "    if name == 'jigsaw':\n",
    "        d = 0\n",
    "        full_results_0['Time'] = batches_0[1:]\n",
    "        full_results_1['Time'] = batches_1[1:]\n",
    "        full_results_2['Time'] = batches_2[1:]\n",
    "        ours = full_results[d].copy()\n",
    "        ours['Time'] = batches_0[1:]\n",
    "\n",
    "        \n",
    "    fig, axs = plt.subplots(1, 2, figsize=(20,6))\n",
    "\n",
    "    sns.lineplot(ax=axs[0], data=full_results_0, x='Time', y='auc', label = 'Vanilla')\n",
    "    sns.lineplot(ax=axs[0], data=full_results_1, x='Time', y='auc', label = 'Static')\n",
    "    sns.lineplot(ax=axs[0], data=full_results_2, x='Time', y='auc', label = 'Dynamic')\n",
    "    sns.lineplot(ax=axs[0], data=ours, x='Time', y='auc', label = 'Ours', color = 'black')\n",
    "    #axs[0].set(xlabel='Time', ylabel='AUC')\n",
    "    axs[0].set_xlabel('Time', fontsize = 15)\n",
    "    axs[0].set_ylabel('AUC', fontsize = 15)\n",
    "\n",
    "    new_ticks = full_results_0['Time'].values\n",
    "    axs[0].set_xticks(new_ticks)\n",
    "   \n",
    "\n",
    "\n",
    "    sns.lineplot(ax=axs[1], data=full_results_0, x='Time', y='S.P', label = 'Vanilla')\n",
    "    sns.lineplot(ax=axs[1], data=full_results_1, x='Time', y='S.P', label = 'Static')\n",
    "    sns.lineplot(ax=axs[1], data=full_results_2, x='Time', y='S.P', label = 'Dynamic')\n",
    "    sns.lineplot(ax=axs[1], data=ours, x='Time', y='S.P', label = 'Ours', color = 'black')\n",
    "    #axs[1].set(xlabel='Time', ylabel='Δ S.P')\n",
    "    axs[1].set_xlabel('Time', fontsize = 15)\n",
    "    axs[1].set_ylabel('Δ S.P', fontsize = 15)\n",
    "    axs[1].set_xticks(new_ticks)\n",
    "    \n",
    "    \n",
    "    \n",
    "    plt.tight_layout()\n",
    "    plt.savefig(f'./results/{name}_AUC_SP.png')"
   ]
  },
  {
   "cell_type": "code",
   "execution_count": null,
   "id": "8c0b3495",
   "metadata": {},
   "outputs": [],
   "source": [
    "just_auc_sp(name)"
   ]
  },
  {
   "cell_type": "markdown",
   "id": "2a64f9e5",
   "metadata": {},
   "source": [
    "## Static Visualization "
   ]
  },
  {
   "cell_type": "code",
   "execution_count": null,
   "id": "9eda9def",
   "metadata": {},
   "outputs": [],
   "source": [
    "if name == 'jigsaw':\n",
    "    d = 0\n",
    "    full_results_0['Time'] = batches_0[1:]\n",
    "    full_results_1['Time'] = batches_1[1:]\n",
    "    full_results_2['Time'] = batches_2[1:]\n",
    "    ours = full_results[d].copy()\n",
    "    ours['Time'] = batches_0[1:]\n",
    "        \n",
    "elif name == 'funding':\n",
    "    d = 9\n",
    "    \n",
    "elif name == 'adult':\n",
    "    d = 9"
   ]
  },
  {
   "cell_type": "code",
   "execution_count": null,
   "id": "be25140f",
   "metadata": {
    "scrolled": true
   },
   "outputs": [],
   "source": [
    "fig, axs = plt.subplots(1, 3, figsize=(20,5))\n",
    "\n",
    "#'S.P'\n",
    "axs[0].errorbar(full_results_0['S.P'].mean(axis=0), full_results_0['auc'].mean(axis=0), xerr=full_results_0['S.P'].std(axis=0), yerr=full_results_0['auc'].std(axis=0), marker = '+', label = 'Vanilla')\n",
    "axs[0].errorbar(full_results_1['S.P'].mean(axis=0), full_results_1['auc'].mean(axis=0), xerr=full_results_1['S.P'].std(axis=0), yerr=full_results_1['auc'].std(axis=0), marker = 'd', label = 'Static')\n",
    "axs[0].errorbar(full_results_2['S.P'].mean(axis=0), full_results_2['auc'].mean(axis=0), xerr=full_results_2['S.P'].std(axis=0), yerr=full_results_2['auc'].std(axis=0), marker = 'x', label = 'Dynamic')\n",
    "axs[0].errorbar(full_results[d]['S.P'].mean(axis=0), full_results[d]['auc'].mean(axis=0), xerr=full_results[d]['S.P'].std(axis=0), yerr=full_results[d]['auc'].std(axis=0), color='black', marker = 's', label = 'Ours')\n",
    "axs[0].legend()\n",
    "\n",
    "\n",
    "#'TPR'\n",
    "axs[1].errorbar(full_results_0['TPR'].mean(axis=0), full_results_0['auc'].mean(axis=0), xerr=full_results_0['TPR'].std(axis=0), yerr=full_results_0['auc'].std(axis=0), marker = '+', label = 'Vanilla')\n",
    "axs[1].errorbar(full_results_1['TPR'].mean(axis=0), full_results_1['auc'].mean(axis=0), xerr=full_results_1['TPR'].std(axis=0), yerr=full_results_1['auc'].std(axis=0), marker = 'd', label = 'Static')\n",
    "axs[1].errorbar(full_results_2['TPR'].mean(axis=0), full_results_2['auc'].mean(axis=0), xerr=full_results_2['TPR'].std(axis=0), yerr=full_results_2['auc'].std(axis=0), marker = 'x', label = 'Dynamic')\n",
    "axs[1].errorbar(full_results[d]['TPR'].mean(axis=0), full_results[d]['auc'].mean(axis=0), xerr=full_results[d]['TPR'].std(axis=0), yerr=full_results[d]['auc'].std(axis=0), color='black', marker = 's', label = 'Ours')\n",
    "axs[1].legend()\n",
    "\n",
    "#'FPR'\n",
    "axs[2].errorbar(full_results_0['FPR'].mean(axis=0), full_results_0['auc'].mean(axis=0), xerr=full_results_0['FPR'].std(axis=0), yerr=full_results_0['auc'].std(axis=0), marker = '+', label = 'Vanilla')\n",
    "axs[2].errorbar(full_results_1['FPR'].mean(axis=0), full_results_1['auc'].mean(axis=0), xerr=full_results_1['FPR'].std(axis=0), yerr=full_results_1['auc'].std(axis=0), marker = 'd', label = 'Static')\n",
    "axs[2].errorbar(full_results_2['FPR'].mean(axis=0), full_results_2['auc'].mean(axis=0), xerr=full_results_2['FPR'].std(axis=0), yerr=full_results_2['auc'].std(axis=0), marker = 'x', label = 'Dynamic')\n",
    "axs[2].errorbar(full_results[d]['FPR'].mean(axis=0), full_results[d]['auc'].mean(axis=0), xerr=full_results[d]['FPR'].std(axis=0), yerr=full_results[d]['auc'].std(axis=0), color='black', marker = 's', label = 'Ours')\n",
    "axs[2].legend()\n",
    "\n",
    "axs[0].set_ylabel('AUC', fontsize = 15)\n",
    "axs[0].set_xlabel('∆ S.P', fontsize = 15)\n",
    "axs[1].set_xlabel('∆ TPR', fontsize = 15)\n",
    "axs[2].set_xlabel('∆ FPR', fontsize = 15)\n",
    "axs[0].set_xlim(0.01,0.12)\n",
    "axs[0].set_ylim(0.81,0.845)\n",
    "\n",
    "axs[1].set_xlim(0.01,0.13)\n",
    "axs[1].set_ylim(0.81,0.845)\n",
    "\n",
    "axs[2].set_xlim(-0.02,0.07)\n",
    "axs[2].set_ylim(0.81,0.845)\n",
    "\n",
    "plt.tight_layout()\n",
    "plt.savefig(f'./results/{name}.png')"
   ]
  },
  {
   "cell_type": "markdown",
   "id": "babe12d3-c546-4040-b27c-1f6873ef1577",
   "metadata": {
    "tags": []
   },
   "source": [
    "### Temporal Bias (metrics)"
   ]
  },
  {
   "cell_type": "code",
   "execution_count": 21,
   "id": "15e30d93-99ec-4615-b8d4-0b6ac4833c65",
   "metadata": {},
   "outputs": [],
   "source": [
    "if name == 'jigsaw':\n",
    "    d = 0\n",
    "    \n",
    "elif name == 'adult':\n",
    "    d = 9\n",
    "    \n",
    "    \n",
    "elif name == 'funding':\n",
    "    d = 9\n",
    "    \n",
    "metrics = 'S.P'\n",
    "def calculate_temporal_Bais():\n",
    "    baseline_0 = temporal_bias(full_results_0[metrics])\n",
    "    baseline_1 = temporal_bias(full_results_1[metrics])\n",
    "    baseline_2 = temporal_bias(full_results_2[metrics])\n",
    "    ours = temporal_bias(full_results[d][metrics])\n",
    "    \n",
    "    temporal_bias_results = np.row_stack([baseline_0, baseline_1, baseline_2, ours])\n",
    "    results_table = pd.DataFrame(temporal_bias_results, columns = ['ROC','RMSB','SD', 'MAX-MIN', 'TS','MB','MABD','AADM','MEAN_SUM','CUMSUM-Plain'])\n",
    "    results_table\n",
    "\n",
    "    return results_table[['MAX-MIN','TS','MB']]"
   ]
  },
  {
   "cell_type": "code",
   "execution_count": 22,
   "id": "15f706d5-10a2-4e84-b3a3-9bacdbf1283c",
   "metadata": {},
   "outputs": [
    {
     "data": {
      "text/html": [
       "<div>\n",
       "<style scoped>\n",
       "    .dataframe tbody tr th:only-of-type {\n",
       "        vertical-align: middle;\n",
       "    }\n",
       "\n",
       "    .dataframe tbody tr th {\n",
       "        vertical-align: top;\n",
       "    }\n",
       "\n",
       "    .dataframe thead th {\n",
       "        text-align: right;\n",
       "    }\n",
       "</style>\n",
       "<table border=\"1\" class=\"dataframe\">\n",
       "  <thead>\n",
       "    <tr style=\"text-align: right;\">\n",
       "      <th></th>\n",
       "      <th>MAX-MIN</th>\n",
       "      <th>TS</th>\n",
       "      <th>MB</th>\n",
       "    </tr>\n",
       "  </thead>\n",
       "  <tbody>\n",
       "    <tr>\n",
       "      <th>0</th>\n",
       "      <td>0.110612</td>\n",
       "      <td>0.004766</td>\n",
       "      <td>0.009202</td>\n",
       "    </tr>\n",
       "    <tr>\n",
       "      <th>1</th>\n",
       "      <td>0.085729</td>\n",
       "      <td>0.010416</td>\n",
       "      <td>0.013614</td>\n",
       "    </tr>\n",
       "    <tr>\n",
       "      <th>2</th>\n",
       "      <td>0.078511</td>\n",
       "      <td>0.004237</td>\n",
       "      <td>0.006855</td>\n",
       "    </tr>\n",
       "    <tr>\n",
       "      <th>3</th>\n",
       "      <td>0.079797</td>\n",
       "      <td>0.058615</td>\n",
       "      <td>0.060407</td>\n",
       "    </tr>\n",
       "  </tbody>\n",
       "</table>\n",
       "</div>"
      ],
      "text/plain": [
       "    MAX-MIN        TS        MB\n",
       "0  0.110612  0.004766  0.009202\n",
       "1  0.085729  0.010416  0.013614\n",
       "2  0.078511  0.004237  0.006855\n",
       "3  0.079797  0.058615  0.060407"
      ]
     },
     "execution_count": 22,
     "metadata": {},
     "output_type": "execute_result"
    }
   ],
   "source": [
    "calculate_temporal_Bais()"
   ]
  },
  {
   "cell_type": "markdown",
   "id": "a6b1d21d-e102-4560-b300-85c42b671696",
   "metadata": {},
   "source": [
    "### Plot Alphas"
   ]
  },
  {
   "cell_type": "code",
   "execution_count": null,
   "id": "837e6ff1",
   "metadata": {},
   "outputs": [],
   "source": [
    "alpha_results = pd.DataFrame({'⍺' : alphas, 'AUC': aucs, 'S.P': sps, 'TPR': tprs, 'FPR': fprs, 'EoD': eods})"
   ]
  },
  {
   "cell_type": "code",
   "execution_count": null,
   "id": "dc359bad",
   "metadata": {},
   "outputs": [],
   "source": [
    "alpha_results"
   ]
  },
  {
   "cell_type": "code",
   "execution_count": null,
   "id": "b69f7406",
   "metadata": {},
   "outputs": [],
   "source": [
    "# alpha_results.to_csv('./results/funding_alpha_results.csv', index = False)"
   ]
  },
  {
   "cell_type": "code",
   "execution_count": null,
   "id": "12fb4da3",
   "metadata": {},
   "outputs": [],
   "source": [
    "plt.plot(alpha_results['⍺'], alpha_results['S.P'], color=\"red\", marker=\"D\")\n",
    "plt.xlabel('⍺')\n",
    "plt.ylabel('Δ S.P')\n",
    "# plt.savefig(f'./results/{name}_alpha_behavior.png')"
   ]
  },
  {
   "cell_type": "markdown",
   "id": "124f49f9",
   "metadata": {},
   "source": [
    "## Temp -- To plot Funding dataset "
   ]
  },
  {
   "cell_type": "code",
   "execution_count": null,
   "id": "f8ee0e3b",
   "metadata": {},
   "outputs": [],
   "source": [
    "fundind_alphas = pd.read_csv('./results/funding_alpha_results.csv')"
   ]
  },
  {
   "cell_type": "code",
   "execution_count": null,
   "id": "97eb0de5",
   "metadata": {},
   "outputs": [],
   "source": [
    "fundind_alphas"
   ]
  },
  {
   "cell_type": "code",
   "execution_count": null,
   "id": "c2f26224",
   "metadata": {},
   "outputs": [],
   "source": [
    "name = 'funding'\n",
    "plt.plot(fundind_alphas['⍺'], fundind_alphas['S.P'], color=\"blue\", marker=\"D\")\n",
    "plt.xlabel('⍺')\n",
    "plt.ylabel('Δ S.P')\n",
    "plt.savefig(f'./results/{name}_alpha_behavior.png')"
   ]
  },
  {
   "cell_type": "code",
   "execution_count": null,
   "id": "92715fef",
   "metadata": {},
   "outputs": [],
   "source": []
  }
 ],
 "metadata": {
  "kernelspec": {
   "display_name": "Python 3 (ipykernel)",
   "language": "python",
   "name": "python3"
  },
  "language_info": {
   "codemirror_mode": {
    "name": "ipython",
    "version": 3
   },
   "file_extension": ".py",
   "mimetype": "text/x-python",
   "name": "python",
   "nbconvert_exporter": "python",
   "pygments_lexer": "ipython3",
   "version": "3.8.9"
  }
 },
 "nbformat": 4,
 "nbformat_minor": 5
}
